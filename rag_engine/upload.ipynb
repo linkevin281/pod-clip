{
 "cells": [
  {
   "cell_type": "code",
   "execution_count": 6,
   "metadata": {},
   "outputs": [
    {
     "name": "stdout",
     "output_type": "stream",
     "text": [
      "Uploaded transcripts/future_tech_clean.txt to s3://hackathon24s/test/future_tech_clean.txt\n",
      "Uploaded transcripts/pinecone_clean.txt to s3://hackathon24s/test/pinecone_clean.txt\n",
      "Uploaded transcripts/flexport_clean.txt to s3://hackathon24s/test/flexport_clean.txt\n",
      "Uploaded transcripts/langchain.txt to s3://hackathon24s/test/langchain.txt\n",
      "Uploaded transcripts/mongodb_clean.txt to s3://hackathon24s/test/mongodb_clean.txt\n",
      "Uploaded transcripts/angellist_clean.txt to s3://hackathon24s/test/angellist_clean.txt\n",
      "Uploaded transcripts/pinecone.txt to s3://hackathon24s/test/pinecone.txt\n",
      "Uploaded transcripts/notion.txt to s3://hackathon24s/test/notion.txt\n",
      "Uploaded transcripts/langchain_clean.txt to s3://hackathon24s/test/langchain_clean.txt\n",
      "Uploaded transcripts/twitch.txt to s3://hackathon24s/test/twitch.txt\n",
      "Uploaded transcripts/future_tech.txt to s3://hackathon24s/test/future_tech.txt\n",
      "Uploaded transcripts/mongodb.txt to s3://hackathon24s/test/mongodb.txt\n",
      "Uploaded transcripts/notion_clean.txt to s3://hackathon24s/test/notion_clean.txt\n",
      "Uploaded transcripts/flexport.txt to s3://hackathon24s/test/flexport.txt\n",
      "Uploaded transcripts/twitch_clean.txt to s3://hackathon24s/test/twitch_clean.txt\n",
      "Uploaded transcripts/angellist.txt to s3://hackathon24s/test/angellist.txt\n"
     ]
    },
    {
     "data": {
      "text/plain": [
       "True"
      ]
     },
     "execution_count": 6,
     "metadata": {},
     "output_type": "execute_result"
    }
   ],
   "source": [
    "import boto3\n",
    "import dotenv, os\n",
    "\n",
    "dotenv.load_dotenv(\"../.env\")\n",
    "AWS_ACCESS_KEY = os.getenv(\"AWS_ACCESS_KEY\")\n",
    "AWS_SECRET_KEY = os.getenv(\"AWS_SECRET_KEY\")\n",
    "\n",
    "def upload_directory_to_s3(directory_path, bucket_name, s3_folder=\"\"):\n",
    "    \"\"\"\n",
    "    Uploads the contents of a directory to an S3 bucket.\n",
    "\n",
    "    Args:\n",
    "    directory_path (str): The path to the directory to upload.\n",
    "    bucket_name (str): The name of the bucket to upload to.\n",
    "    s3_folder (str): The folder path inside the S3 bucket to upload files into.\n",
    "\n",
    "    Returns:\n",
    "    bool: True if the directory was uploaded successfully, False otherwise.\n",
    "    \"\"\"\n",
    "    s3_client = boto3.client('s3', aws_access_key_id=AWS_ACCESS_KEY, aws_secret_access_key=AWS_SECRET_KEY)\n",
    "    # Walk through each file in the directory\n",
    "    for root, dirs, files in os.walk(directory_path):\n",
    "        for filename in files:\n",
    "            # construct the full local path\n",
    "            local_path = os.path.join(root, filename)\n",
    "            # construct the full S3 path\n",
    "            relative_path = os.path.relpath(local_path, directory_path)\n",
    "            s3_path = os.path.join(s3_folder, relative_path).replace(\"\\\\\", \"/\")\n",
    "\n",
    "            # Upload the file\n",
    "            try:\n",
    "                s3_client.upload_file(local_path, bucket_name, s3_path)\n",
    "                print(f\"Uploaded {local_path} to s3://{bucket_name}/{s3_path}\")\n",
    "            except Exception as e:\n",
    "                print(f\"Failed to upload {local_path}. Error: {str(e)}\")\n",
    "                return False\n",
    "    return True\n",
    "\n",
    "# Example usage: uploading 'my_directory' to 'your-bucket-name' under 'my_s3_folder/'\n",
    "upload_directory_to_s3('transcripts', 'hackathon24s', 'test')\n"
   ]
  }
 ],
 "metadata": {
  "kernelspec": {
   "display_name": "hackathon24s",
   "language": "python",
   "name": "python3"
  },
  "language_info": {
   "codemirror_mode": {
    "name": "ipython",
    "version": 3
   },
   "file_extension": ".py",
   "mimetype": "text/x-python",
   "name": "python",
   "nbconvert_exporter": "python",
   "pygments_lexer": "ipython3",
   "version": "3.10.14"
  }
 },
 "nbformat": 4,
 "nbformat_minor": 2
}
