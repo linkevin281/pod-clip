{
 "cells": [
  {
   "cell_type": "code",
   "execution_count": 245,
   "metadata": {},
   "outputs": [],
   "source": [
    "from selenium import webdriver\n",
    "from selenium.webdriver.common.by import By\n",
    "from selenium.webdriver.support.ui import WebDriverWait\n",
    "from selenium.webdriver.support import expected_conditions as EC\n",
    "import pandas as pd\n",
    "import requests\n",
    "import time\n",
    "from youtube_transcript_api import YouTubeTranscriptApi\n",
    "import re\n",
    "import yt_dlp\n",
    "import json\n",
    "import glob\n",
    "import os"
   ]
  },
  {
   "cell_type": "code",
   "execution_count": 246,
   "metadata": {},
   "outputs": [],
   "source": [
    "AUDIO_DIR = \"audio\""
   ]
  },
  {
   "cell_type": "code",
   "execution_count": 247,
   "metadata": {},
   "outputs": [],
   "source": [
    "def get_transcript(id: str) -> None:\n",
    "    transcript = YouTubeTranscriptApi.get_transcript(\n",
    "        id, languages=('en', 'en-US', 'en-GB'))\n",
    "    return transcript"
   ]
  },
  {
   "cell_type": "code",
   "execution_count": 248,
   "metadata": {},
   "outputs": [],
   "source": [
    "def download_audio(url):\n",
    "    print(\"in download_audio\")\n",
    "    try:\n",
    "        ydl_opts = {\n",
    "            'format': 'bestaudio/best',\n",
    "            'postprocessors': [{\n",
    "                'key': 'FFmpegExtractAudio',\n",
    "                'preferredcodec': 'mp3',\n",
    "                'preferredquality': '192',\n",
    "            },\n",
    "            {\n",
    "                'key': 'FFmpegSplitChapters',  # Adding split chapters processor\n",
    "                'force_keyframes': True,  # Optional: force keyframes at the start of each chapter\n",
    "                }],\n",
    "            'noplaylist': True,\n",
    "            'writeinfojson': True,  # Optional: write metadata into a JSON file\n",
    "            'writeannotations': True,  # Optional: write annotations into a file\n",
    "        }\n",
    "\n",
    "        with yt_dlp.YoutubeDL(ydl_opts) as ydl:\n",
    "            ydl.download([url])\n",
    "    except Exception as e:\n",
    "        print(\"Error downloading audio: \", e)"
   ]
  },
  {
   "cell_type": "code",
   "execution_count": 249,
   "metadata": {},
   "outputs": [],
   "source": [
    "def extract_text(transcript, start_time, end_time):\n",
    "    # Initialize an empty string to hold the extracted text\n",
    "    extracted_text = \"\"\n",
    "    \n",
    "    # Loop through each entry in the transcript\n",
    "    for entry in transcript:\n",
    "        # Calculate the end time of the current entry\n",
    "        entry_end_time = entry['start'] + entry['duration']\n",
    "        \n",
    "        # Check if the entry overlaps with the given time range\n",
    "        if entry['start'] < end_time and entry_end_time > start_time:\n",
    "            # Add the text to the extracted text string\n",
    "            extracted_text += entry['text'] + \" \"\n",
    "    \n",
    "    return extracted_text.strip()\n"
   ]
  },
  {
   "cell_type": "code",
   "execution_count": 250,
   "metadata": {},
   "outputs": [
    {
     "name": "stderr",
     "output_type": "stream",
     "text": [
      "huggingface/tokenizers: The current process just got forked, after parallelism has already been used. Disabling parallelism to avoid deadlocks...\n",
      "To disable this warning, you can either:\n",
      "\t- Avoid using `tokenizers` before the fork if possible\n",
      "\t- Explicitly set the environment variable TOKENIZERS_PARALLELISM=(true | false)\n",
      "huggingface/tokenizers: The current process just got forked, after parallelism has already been used. Disabling parallelism to avoid deadlocks...\n",
      "To disable this warning, you can either:\n",
      "\t- Avoid using `tokenizers` before the fork if possible\n",
      "\t- Explicitly set the environment variable TOKENIZERS_PARALLELISM=(true | false)\n"
     ]
    },
    {
     "name": "stdout",
     "output_type": "stream",
     "text": [
      "id is: yNuLPWu38IU&ab_channel=NorgesBankInvestmentManagement\n",
      "in download_audio\n",
      "[youtube] Extracting URL: https://www.youtube.com/watch?v=yNuLPWu38IU&ab_channel=NorgesBankInvestmentManagement\n",
      "[youtube] yNuLPWu38IU: Downloading webpage\n",
      "[youtube] yNuLPWu38IU: Downloading ios player API JSON\n",
      "[youtube] yNuLPWu38IU: Downloading android player API JSON\n",
      "[youtube] yNuLPWu38IU: Downloading m3u8 information\n",
      "[info] yNuLPWu38IU: Downloading 1 format(s): 251\n",
      "[info] Writing video metadata as JSON to: Satya Nadella - CEO of Microsoft ｜ In Good Company ｜ Podcast ｜ Norges Bank Investment Management [yNuLPWu38IU].info.json\n"
     ]
    },
    {
     "name": "stderr",
     "output_type": "stream",
     "text": [
      "WARNING: There are no annotations to write.\n"
     ]
    },
    {
     "name": "stdout",
     "output_type": "stream",
     "text": [
      "[download] Destination: Satya Nadella - CEO of Microsoft ｜ In Good Company ｜ Podcast ｜ Norges Bank Investment Management [yNuLPWu38IU].webm\n",
      "[download] 100% of   31.81MiB in 00:00:01 at 27.27MiB/s    \n",
      "[ExtractAudio] Destination: Satya Nadella - CEO of Microsoft ｜ In Good Company ｜ Podcast ｜ Norges Bank Investment Management [yNuLPWu38IU].mp3\n"
     ]
    },
    {
     "name": "stderr",
     "output_type": "stream",
     "text": [
      "huggingface/tokenizers: The current process just got forked, after parallelism has already been used. Disabling parallelism to avoid deadlocks...\n",
      "To disable this warning, you can either:\n",
      "\t- Avoid using `tokenizers` before the fork if possible\n",
      "\t- Explicitly set the environment variable TOKENIZERS_PARALLELISM=(true | false)\n",
      "huggingface/tokenizers: The current process just got forked, after parallelism has already been used. Disabling parallelism to avoid deadlocks...\n",
      "To disable this warning, you can either:\n",
      "\t- Avoid using `tokenizers` before the fork if possible\n",
      "\t- Explicitly set the environment variable TOKENIZERS_PARALLELISM=(true | false)\n"
     ]
    },
    {
     "name": "stdout",
     "output_type": "stream",
     "text": [
      "Deleting original file Satya Nadella - CEO of Microsoft ｜ In Good Company ｜ Podcast ｜ Norges Bank Investment Management [yNuLPWu38IU].webm (pass -k to keep)\n",
      "[SplitChapters] Re-encoding \"Satya Nadella - CEO of Microsoft ｜ In Good Company ｜ Podcast ｜ Norges Bank Investment Management [yNuLPWu38IU].mp3\" with appropriate keyframes\n"
     ]
    },
    {
     "name": "stderr",
     "output_type": "stream",
     "text": [
      "huggingface/tokenizers: The current process just got forked, after parallelism has already been used. Disabling parallelism to avoid deadlocks...\n",
      "To disable this warning, you can either:\n",
      "\t- Avoid using `tokenizers` before the fork if possible\n",
      "\t- Explicitly set the environment variable TOKENIZERS_PARALLELISM=(true | false)\n"
     ]
    },
    {
     "name": "stdout",
     "output_type": "stream",
     "text": [
      "[SplitChapters] Splitting video by chapters; 18 chapters found\n",
      "[SplitChapters] Chapter 001; Destination: Satya Nadella - CEO of Microsoft ｜ In Good Company ｜ Podcast ｜ Norges Bank Investment Management - 001 Introduction [yNuLPWu38IU].mp3\n",
      "[SplitChapters] Chapter 002; Destination: Satya Nadella - CEO of Microsoft ｜ In Good Company ｜ Podcast ｜ Norges Bank Investment Management - 002 Whats on your mind [yNuLPWu38IU].mp3\n"
     ]
    },
    {
     "name": "stderr",
     "output_type": "stream",
     "text": [
      "huggingface/tokenizers: The current process just got forked, after parallelism has already been used. Disabling parallelism to avoid deadlocks...\n",
      "To disable this warning, you can either:\n",
      "\t- Avoid using `tokenizers` before the fork if possible\n",
      "\t- Explicitly set the environment variable TOKENIZERS_PARALLELISM=(true | false)\n"
     ]
    },
    {
     "name": "stdout",
     "output_type": "stream",
     "text": [
      "[SplitChapters] Chapter 003; Destination: Satya Nadella - CEO of Microsoft ｜ In Good Company ｜ Podcast ｜ Norges Bank Investment Management - 003 How can technology be a driver for economic growth [yNuLPWu38IU].mp3\n"
     ]
    },
    {
     "name": "stderr",
     "output_type": "stream",
     "text": [
      "huggingface/tokenizers: The current process just got forked, after parallelism has already been used. Disabling parallelism to avoid deadlocks...\n",
      "To disable this warning, you can either:\n",
      "\t- Avoid using `tokenizers` before the fork if possible\n",
      "\t- Explicitly set the environment variable TOKENIZERS_PARALLELISM=(true | false)\n"
     ]
    },
    {
     "name": "stdout",
     "output_type": "stream",
     "text": [
      "[SplitChapters] Chapter 004; Destination: Satya Nadella - CEO of Microsoft ｜ In Good Company ｜ Podcast ｜ Norges Bank Investment Management - 004 Microsofts partnership with Open AI [yNuLPWu38IU].mp3\n"
     ]
    },
    {
     "name": "stderr",
     "output_type": "stream",
     "text": [
      "huggingface/tokenizers: The current process just got forked, after parallelism has already been used. Disabling parallelism to avoid deadlocks...\n",
      "To disable this warning, you can either:\n",
      "\t- Avoid using `tokenizers` before the fork if possible\n",
      "\t- Explicitly set the environment variable TOKENIZERS_PARALLELISM=(true | false)\n"
     ]
    },
    {
     "name": "stdout",
     "output_type": "stream",
     "text": [
      "[SplitChapters] Chapter 005; Destination: Satya Nadella - CEO of Microsoft ｜ In Good Company ｜ Podcast ｜ Norges Bank Investment Management - 005 Where is Microsoft in the AI ecosystem [yNuLPWu38IU].mp3\n"
     ]
    },
    {
     "name": "stderr",
     "output_type": "stream",
     "text": [
      "huggingface/tokenizers: The current process just got forked, after parallelism has already been used. Disabling parallelism to avoid deadlocks...\n",
      "To disable this warning, you can either:\n",
      "\t- Avoid using `tokenizers` before the fork if possible\n",
      "\t- Explicitly set the environment variable TOKENIZERS_PARALLELISM=(true | false)\n",
      "huggingface/tokenizers: The current process just got forked, after parallelism has already been used. Disabling parallelism to avoid deadlocks...\n",
      "To disable this warning, you can either:\n",
      "\t- Avoid using `tokenizers` before the fork if possible\n",
      "\t- Explicitly set the environment variable TOKENIZERS_PARALLELISM=(true | false)\n"
     ]
    },
    {
     "name": "stdout",
     "output_type": "stream",
     "text": [
      "[SplitChapters] Chapter 006; Destination: Satya Nadella - CEO of Microsoft ｜ In Good Company ｜ Podcast ｜ Norges Bank Investment Management - 006 Year 2 of the Paradigm Shift [yNuLPWu38IU].mp3\n"
     ]
    },
    {
     "name": "stderr",
     "output_type": "stream",
     "text": [
      "huggingface/tokenizers: The current process just got forked, after parallelism has already been used. Disabling parallelism to avoid deadlocks...\n",
      "To disable this warning, you can either:\n",
      "\t- Avoid using `tokenizers` before the fork if possible\n",
      "\t- Explicitly set the environment variable TOKENIZERS_PARALLELISM=(true | false)\n"
     ]
    },
    {
     "name": "stdout",
     "output_type": "stream",
     "text": [
      "[SplitChapters] Chapter 007; Destination: Satya Nadella - CEO of Microsoft ｜ In Good Company ｜ Podcast ｜ Norges Bank Investment Management - 007 Scaling Laws [yNuLPWu38IU].mp3\n"
     ]
    },
    {
     "name": "stderr",
     "output_type": "stream",
     "text": [
      "huggingface/tokenizers: The current process just got forked, after parallelism has already been used. Disabling parallelism to avoid deadlocks...\n",
      "To disable this warning, you can either:\n",
      "\t- Avoid using `tokenizers` before the fork if possible\n",
      "\t- Explicitly set the environment variable TOKENIZERS_PARALLELISM=(true | false)\n"
     ]
    },
    {
     "name": "stdout",
     "output_type": "stream",
     "text": [
      "[SplitChapters] Chapter 008; Destination: Satya Nadella - CEO of Microsoft ｜ In Good Company ｜ Podcast ｜ Norges Bank Investment Management - 008 Small Language Models [yNuLPWu38IU].mp3\n"
     ]
    },
    {
     "name": "stderr",
     "output_type": "stream",
     "text": [
      "huggingface/tokenizers: The current process just got forked, after parallelism has already been used. Disabling parallelism to avoid deadlocks...\n",
      "To disable this warning, you can either:\n",
      "\t- Avoid using `tokenizers` before the fork if possible\n",
      "\t- Explicitly set the environment variable TOKENIZERS_PARALLELISM=(true | false)\n"
     ]
    },
    {
     "name": "stdout",
     "output_type": "stream",
     "text": [
      "[SplitChapters] Chapter 009; Destination: Satya Nadella - CEO of Microsoft ｜ In Good Company ｜ Podcast ｜ Norges Bank Investment Management - 009 Tech in Geopolitics [yNuLPWu38IU].mp3\n"
     ]
    },
    {
     "name": "stderr",
     "output_type": "stream",
     "text": [
      "huggingface/tokenizers: The current process just got forked, after parallelism has already been used. Disabling parallelism to avoid deadlocks...\n",
      "To disable this warning, you can either:\n",
      "\t- Avoid using `tokenizers` before the fork if possible\n",
      "\t- Explicitly set the environment variable TOKENIZERS_PARALLELISM=(true | false)\n"
     ]
    },
    {
     "name": "stdout",
     "output_type": "stream",
     "text": [
      "[SplitChapters] Chapter 010; Destination: Satya Nadella - CEO of Microsoft ｜ In Good Company ｜ Podcast ｜ Norges Bank Investment Management - 010 Quantum Computing [yNuLPWu38IU].mp3\n"
     ]
    },
    {
     "name": "stderr",
     "output_type": "stream",
     "text": [
      "huggingface/tokenizers: The current process just got forked, after parallelism has already been used. Disabling parallelism to avoid deadlocks...\n",
      "To disable this warning, you can either:\n",
      "\t- Avoid using `tokenizers` before the fork if possible\n",
      "\t- Explicitly set the environment variable TOKENIZERS_PARALLELISM=(true | false)\n"
     ]
    },
    {
     "name": "stdout",
     "output_type": "stream",
     "text": [
      "[SplitChapters] Chapter 011; Destination: Satya Nadella - CEO of Microsoft ｜ In Good Company ｜ Podcast ｜ Norges Bank Investment Management - 011 Gaming [yNuLPWu38IU].mp3\n"
     ]
    },
    {
     "name": "stderr",
     "output_type": "stream",
     "text": [
      "huggingface/tokenizers: The current process just got forked, after parallelism has already been used. Disabling parallelism to avoid deadlocks...\n",
      "To disable this warning, you can either:\n",
      "\t- Avoid using `tokenizers` before the fork if possible\n",
      "\t- Explicitly set the environment variable TOKENIZERS_PARALLELISM=(true | false)\n"
     ]
    },
    {
     "name": "stdout",
     "output_type": "stream",
     "text": [
      "[SplitChapters] Chapter 012; Destination: Satya Nadella - CEO of Microsoft ｜ In Good Company ｜ Podcast ｜ Norges Bank Investment Management - 012 Changes at Microsoft [yNuLPWu38IU].mp3\n"
     ]
    },
    {
     "name": "stderr",
     "output_type": "stream",
     "text": [
      "huggingface/tokenizers: The current process just got forked, after parallelism has already been used. Disabling parallelism to avoid deadlocks...\n",
      "To disable this warning, you can either:\n",
      "\t- Avoid using `tokenizers` before the fork if possible\n",
      "\t- Explicitly set the environment variable TOKENIZERS_PARALLELISM=(true | false)\n"
     ]
    },
    {
     "name": "stdout",
     "output_type": "stream",
     "text": [
      "[SplitChapters] Chapter 013; Destination: Satya Nadella - CEO of Microsoft ｜ In Good Company ｜ Podcast ｜ Norges Bank Investment Management - 013 Empathy [yNuLPWu38IU].mp3\n"
     ]
    },
    {
     "name": "stderr",
     "output_type": "stream",
     "text": [
      "huggingface/tokenizers: The current process just got forked, after parallelism has already been used. Disabling parallelism to avoid deadlocks...\n",
      "To disable this warning, you can either:\n",
      "\t- Avoid using `tokenizers` before the fork if possible\n",
      "\t- Explicitly set the environment variable TOKENIZERS_PARALLELISM=(true | false)\n"
     ]
    },
    {
     "name": "stdout",
     "output_type": "stream",
     "text": [
      "[SplitChapters] Chapter 014; Destination: Satya Nadella - CEO of Microsoft ｜ In Good Company ｜ Podcast ｜ Norges Bank Investment Management - 014 Lifes experiences [yNuLPWu38IU].mp3\n"
     ]
    },
    {
     "name": "stderr",
     "output_type": "stream",
     "text": [
      "huggingface/tokenizers: The current process just got forked, after parallelism has already been used. Disabling parallelism to avoid deadlocks...\n",
      "To disable this warning, you can either:\n",
      "\t- Avoid using `tokenizers` before the fork if possible\n",
      "\t- Explicitly set the environment variable TOKENIZERS_PARALLELISM=(true | false)\n"
     ]
    },
    {
     "name": "stdout",
     "output_type": "stream",
     "text": [
      "[SplitChapters] Chapter 015; Destination: Satya Nadella - CEO of Microsoft ｜ In Good Company ｜ Podcast ｜ Norges Bank Investment Management - 015 Empathy and execution [yNuLPWu38IU].mp3\n"
     ]
    },
    {
     "name": "stderr",
     "output_type": "stream",
     "text": [
      "huggingface/tokenizers: The current process just got forked, after parallelism has already been used. Disabling parallelism to avoid deadlocks...\n",
      "To disable this warning, you can either:\n",
      "\t- Avoid using `tokenizers` before the fork if possible\n",
      "\t- Explicitly set the environment variable TOKENIZERS_PARALLELISM=(true | false)\n"
     ]
    },
    {
     "name": "stdout",
     "output_type": "stream",
     "text": [
      "[SplitChapters] Chapter 016; Destination: Satya Nadella - CEO of Microsoft ｜ In Good Company ｜ Podcast ｜ Norges Bank Investment Management - 016 Humility [yNuLPWu38IU].mp3\n"
     ]
    },
    {
     "name": "stderr",
     "output_type": "stream",
     "text": [
      "huggingface/tokenizers: The current process just got forked, after parallelism has already been used. Disabling parallelism to avoid deadlocks...\n",
      "To disable this warning, you can either:\n",
      "\t- Avoid using `tokenizers` before the fork if possible\n",
      "\t- Explicitly set the environment variable TOKENIZERS_PARALLELISM=(true | false)\n"
     ]
    },
    {
     "name": "stdout",
     "output_type": "stream",
     "text": [
      "[SplitChapters] Chapter 017; Destination: Satya Nadella - CEO of Microsoft ｜ In Good Company ｜ Podcast ｜ Norges Bank Investment Management - 017 Poetry [yNuLPWu38IU].mp3\n"
     ]
    },
    {
     "name": "stderr",
     "output_type": "stream",
     "text": [
      "huggingface/tokenizers: The current process just got forked, after parallelism has already been used. Disabling parallelism to avoid deadlocks...\n",
      "To disable this warning, you can either:\n",
      "\t- Avoid using `tokenizers` before the fork if possible\n",
      "\t- Explicitly set the environment variable TOKENIZERS_PARALLELISM=(true | false)\n"
     ]
    },
    {
     "name": "stdout",
     "output_type": "stream",
     "text": [
      "[SplitChapters] Chapter 018; Destination: Satya Nadella - CEO of Microsoft ｜ In Good Company ｜ Podcast ｜ Norges Bank Investment Management - 018 Advice to young people [yNuLPWu38IU].mp3\n"
     ]
    },
    {
     "name": "stderr",
     "output_type": "stream",
     "text": [
      "huggingface/tokenizers: The current process just got forked, after parallelism has already been used. Disabling parallelism to avoid deadlocks...\n",
      "To disable this warning, you can either:\n",
      "\t- Avoid using `tokenizers` before the fork if possible\n",
      "\t- Explicitly set the environment variable TOKENIZERS_PARALLELISM=(true | false)\n"
     ]
    },
    {
     "name": "stdout",
     "output_type": "stream",
     "text": [
      "id is: 8USI98_5GeU&ab_channel=TalkingSasquach\n",
      "in download_audio\n",
      "[youtube] Extracting URL: https://www.youtube.com/watch?v=8USI98_5GeU&ab_channel=TalkingSasquach\n",
      "[youtube] 8USI98_5GeU: Downloading webpage\n",
      "[youtube] 8USI98_5GeU: Downloading ios player API JSON\n",
      "[youtube] 8USI98_5GeU: Downloading android player API JSON\n",
      "[youtube] 8USI98_5GeU: Downloading m3u8 information\n",
      "[info] 8USI98_5GeU: Downloading 1 format(s): 251\n",
      "[info] Writing video metadata as JSON to: Momentum Firmware for Flipper Zero ：  The Next Generation of Flipper Custom Firmware!! [8USI98_5GeU].info.json\n"
     ]
    },
    {
     "name": "stderr",
     "output_type": "stream",
     "text": [
      "WARNING: There are no annotations to write.\n"
     ]
    },
    {
     "name": "stdout",
     "output_type": "stream",
     "text": [
      "[download] Destination: Momentum Firmware for Flipper Zero ：  The Next Generation of Flipper Custom Firmware!! [8USI98_5GeU].webm\n",
      "[download] 100% of   12.21MiB in 00:00:00 at 20.01MiB/s    \n",
      "[ExtractAudio] Destination: Momentum Firmware for Flipper Zero ：  The Next Generation of Flipper Custom Firmware!! [8USI98_5GeU].mp3\n"
     ]
    },
    {
     "name": "stderr",
     "output_type": "stream",
     "text": [
      "huggingface/tokenizers: The current process just got forked, after parallelism has already been used. Disabling parallelism to avoid deadlocks...\n",
      "To disable this warning, you can either:\n",
      "\t- Avoid using `tokenizers` before the fork if possible\n",
      "\t- Explicitly set the environment variable TOKENIZERS_PARALLELISM=(true | false)\n",
      "huggingface/tokenizers: The current process just got forked, after parallelism has already been used. Disabling parallelism to avoid deadlocks...\n",
      "To disable this warning, you can either:\n",
      "\t- Avoid using `tokenizers` before the fork if possible\n",
      "\t- Explicitly set the environment variable TOKENIZERS_PARALLELISM=(true | false)\n"
     ]
    },
    {
     "name": "stdout",
     "output_type": "stream",
     "text": [
      "Deleting original file Momentum Firmware for Flipper Zero ：  The Next Generation of Flipper Custom Firmware!! [8USI98_5GeU].webm (pass -k to keep)\n",
      "[SplitChapters] Re-encoding \"Momentum Firmware for Flipper Zero ：  The Next Generation of Flipper Custom Firmware!! [8USI98_5GeU].mp3\" with appropriate keyframes\n"
     ]
    },
    {
     "name": "stderr",
     "output_type": "stream",
     "text": [
      "huggingface/tokenizers: The current process just got forked, after parallelism has already been used. Disabling parallelism to avoid deadlocks...\n",
      "To disable this warning, you can either:\n",
      "\t- Avoid using `tokenizers` before the fork if possible\n",
      "\t- Explicitly set the environment variable TOKENIZERS_PARALLELISM=(true | false)\n"
     ]
    },
    {
     "name": "stdout",
     "output_type": "stream",
     "text": [
      "[SplitChapters] Splitting video by chapters; 8 chapters found\n",
      "[SplitChapters] Chapter 001; Destination: Momentum Firmware for Flipper Zero ：  The Next Generation of Flipper Custom Firmware!! - 001 Intro [8USI98_5GeU].mp3\n",
      "[SplitChapters] Chapter 002; Destination: Momentum Firmware for Flipper Zero ：  The Next Generation of Flipper Custom Firmware!! - 002 Where to Download [8USI98_5GeU].mp3\n"
     ]
    },
    {
     "name": "stderr",
     "output_type": "stream",
     "text": [
      "huggingface/tokenizers: The current process just got forked, after parallelism has already been used. Disabling parallelism to avoid deadlocks...\n",
      "To disable this warning, you can either:\n",
      "\t- Avoid using `tokenizers` before the fork if possible\n",
      "\t- Explicitly set the environment variable TOKENIZERS_PARALLELISM=(true | false)\n"
     ]
    },
    {
     "name": "stdout",
     "output_type": "stream",
     "text": [
      "[SplitChapters] Chapter 003; Destination: Momentum Firmware for Flipper Zero ：  The Next Generation of Flipper Custom Firmware!! - 003 Installation [8USI98_5GeU].mp3\n"
     ]
    },
    {
     "name": "stderr",
     "output_type": "stream",
     "text": [
      "huggingface/tokenizers: The current process just got forked, after parallelism has already been used. Disabling parallelism to avoid deadlocks...\n",
      "To disable this warning, you can either:\n",
      "\t- Avoid using `tokenizers` before the fork if possible\n",
      "\t- Explicitly set the environment variable TOKENIZERS_PARALLELISM=(true | false)\n",
      "huggingface/tokenizers: The current process just got forked, after parallelism has already been used. Disabling parallelism to avoid deadlocks...\n",
      "To disable this warning, you can either:\n",
      "\t- Avoid using `tokenizers` before the fork if possible\n",
      "\t- Explicitly set the environment variable TOKENIZERS_PARALLELISM=(true | false)\n"
     ]
    },
    {
     "name": "stdout",
     "output_type": "stream",
     "text": [
      "[SplitChapters] Chapter 004; Destination: Momentum Firmware for Flipper Zero ：  The Next Generation of Flipper Custom Firmware!! - 004 USB Mass Storage [8USI98_5GeU].mp3\n",
      "[SplitChapters] Chapter 005; Destination: Momentum Firmware for Flipper Zero ：  The Next Generation of Flipper Custom Firmware!! - 005 Running the Script [8USI98_5GeU].mp3\n"
     ]
    },
    {
     "name": "stderr",
     "output_type": "stream",
     "text": [
      "huggingface/tokenizers: The current process just got forked, after parallelism has already been used. Disabling parallelism to avoid deadlocks...\n",
      "To disable this warning, you can either:\n",
      "\t- Avoid using `tokenizers` before the fork if possible\n",
      "\t- Explicitly set the environment variable TOKENIZERS_PARALLELISM=(true | false)\n"
     ]
    },
    {
     "name": "stdout",
     "output_type": "stream",
     "text": [
      "[SplitChapters] Chapter 006; Destination: Momentum Firmware for Flipper Zero ：  The Next Generation of Flipper Custom Firmware!! - 006 Find My Flipper [8USI98_5GeU].mp3\n"
     ]
    },
    {
     "name": "stderr",
     "output_type": "stream",
     "text": [
      "huggingface/tokenizers: The current process just got forked, after parallelism has already been used. Disabling parallelism to avoid deadlocks...\n",
      "To disable this warning, you can either:\n",
      "\t- Avoid using `tokenizers` before the fork if possible\n",
      "\t- Explicitly set the environment variable TOKENIZERS_PARALLELISM=(true | false)\n"
     ]
    },
    {
     "name": "stdout",
     "output_type": "stream",
     "text": [
      "[SplitChapters] Chapter 007; Destination: Momentum Firmware for Flipper Zero ：  The Next Generation of Flipper Custom Firmware!! - 007 Video Game Module [8USI98_5GeU].mp3\n"
     ]
    },
    {
     "name": "stderr",
     "output_type": "stream",
     "text": [
      "huggingface/tokenizers: The current process just got forked, after parallelism has already been used. Disabling parallelism to avoid deadlocks...\n",
      "To disable this warning, you can either:\n",
      "\t- Avoid using `tokenizers` before the fork if possible\n",
      "\t- Explicitly set the environment variable TOKENIZERS_PARALLELISM=(true | false)\n",
      "huggingface/tokenizers: The current process just got forked, after parallelism has already been used. Disabling parallelism to avoid deadlocks...\n",
      "To disable this warning, you can either:\n",
      "\t- Avoid using `tokenizers` before the fork if possible\n",
      "\t- Explicitly set the environment variable TOKENIZERS_PARALLELISM=(true | false)\n"
     ]
    },
    {
     "name": "stdout",
     "output_type": "stream",
     "text": [
      "[SplitChapters] Chapter 008; Destination: Momentum Firmware for Flipper Zero ：  The Next Generation of Flipper Custom Firmware!! - 008 RGB Sync [8USI98_5GeU].mp3\n"
     ]
    },
    {
     "name": "stderr",
     "output_type": "stream",
     "text": [
      "huggingface/tokenizers: The current process just got forked, after parallelism has already been used. Disabling parallelism to avoid deadlocks...\n",
      "To disable this warning, you can either:\n",
      "\t- Avoid using `tokenizers` before the fork if possible\n",
      "\t- Explicitly set the environment variable TOKENIZERS_PARALLELISM=(true | false)\n"
     ]
    },
    {
     "name": "stdout",
     "output_type": "stream",
     "text": [
      "              channel                                            episode  \\\n",
      "0     In Good Company  Satya Nadella - CEO of Microsoft | In Good Com...   \n",
      "1     In Good Company  Satya Nadella - CEO of Microsoft | In Good Com...   \n",
      "2     In Good Company  Satya Nadella - CEO of Microsoft | In Good Com...   \n",
      "3     In Good Company  Satya Nadella - CEO of Microsoft | In Good Com...   \n",
      "4     In Good Company  Satya Nadella - CEO of Microsoft | In Good Com...   \n",
      "5     In Good Company  Satya Nadella - CEO of Microsoft | In Good Com...   \n",
      "6     In Good Company  Satya Nadella - CEO of Microsoft | In Good Com...   \n",
      "7     In Good Company  Satya Nadella - CEO of Microsoft | In Good Com...   \n",
      "8     In Good Company  Satya Nadella - CEO of Microsoft | In Good Com...   \n",
      "9     In Good Company  Satya Nadella - CEO of Microsoft | In Good Com...   \n",
      "10    In Good Company  Satya Nadella - CEO of Microsoft | In Good Com...   \n",
      "11    In Good Company  Satya Nadella - CEO of Microsoft | In Good Com...   \n",
      "12    In Good Company  Satya Nadella - CEO of Microsoft | In Good Com...   \n",
      "13    In Good Company  Satya Nadella - CEO of Microsoft | In Good Com...   \n",
      "14    In Good Company  Satya Nadella - CEO of Microsoft | In Good Com...   \n",
      "15    In Good Company  Satya Nadella - CEO of Microsoft | In Good Com...   \n",
      "16    In Good Company  Satya Nadella - CEO of Microsoft | In Good Com...   \n",
      "17    In Good Company  Satya Nadella - CEO of Microsoft | In Good Com...   \n",
      "18  Talking Sasquatch  Momentum Firmware for Flipper Zero : The Next ...   \n",
      "19  Talking Sasquatch  Momentum Firmware for Flipper Zero : The Next ...   \n",
      "20  Talking Sasquatch  Momentum Firmware for Flipper Zero : The Next ...   \n",
      "21  Talking Sasquatch  Momentum Firmware for Flipper Zero : The Next ...   \n",
      "22  Talking Sasquatch  Momentum Firmware for Flipper Zero : The Next ...   \n",
      "23  Talking Sasquatch  Momentum Firmware for Flipper Zero : The Next ...   \n",
      "24  Talking Sasquatch  Momentum Firmware for Flipper Zero : The Next ...   \n",
      "25  Talking Sasquatch  Momentum Firmware for Flipper Zero : The Next ...   \n",
      "\n",
      "                                              chapter  start_time  end_time  \\\n",
      "0                                        Introduction         0.0      22.0   \n",
      "1                                  Whats on your mind        22.0     129.0   \n",
      "2   How can technology be a driver for economic gr...       129.0     241.0   \n",
      "3                 Microsofts partnership with Open AI       241.0     391.0   \n",
      "4              Where is Microsoft in the AI ecosystem       391.0     558.0   \n",
      "5                        Year 2 of the Paradigm Shift       558.0     672.0   \n",
      "6                                        Scaling Laws       672.0     772.0   \n",
      "7                               Small Language Models       772.0     857.0   \n",
      "8                                 Tech in Geopolitics       857.0     950.0   \n",
      "9                                   Quantum Computing       950.0    1102.0   \n",
      "10                                             Gaming      1102.0    1234.0   \n",
      "11                               Changes at Microsoft      1234.0    1510.0   \n",
      "12                                            Empathy      1510.0    1625.0   \n",
      "13                                  Lifes experiences      1625.0    1760.0   \n",
      "14                              Empathy and execution      1760.0    1974.0   \n",
      "15                                           Humility      1974.0    2058.0   \n",
      "16                                             Poetry      2058.0    2151.0   \n",
      "17                             Advice to young people      2151.0    2255.0   \n",
      "18                                              Intro         0.0      62.0   \n",
      "19                                  Where to Download        62.0      94.0   \n",
      "20                                       Installation        94.0     348.0   \n",
      "21                                   USB Mass Storage       348.0     446.0   \n",
      "22                                 Running the Script       446.0     525.0   \n",
      "23                                    Find My Flipper       525.0     608.0   \n",
      "24                                  Video Game Module       608.0     740.0   \n",
      "25                                           RGB Sync       740.0     864.0   \n",
      "\n",
      "                                                 text  \\\n",
      "0   [Music] hi there I've just had the most incred...   \n",
      "1   the most valuable company in the world what's ...   \n",
      "2   that you know where you don't get to reinvent ...   \n",
      "3   me as to how Tech and its future will impact t...   \n",
      "4   innovate well we can bring some competition to...   \n",
      "5   to do is to keep each layer competitive on its...   \n",
      "6   previously but also also is showing early sign...   \n",
      "7   at least I want to keep myself open-minded abo...   \n",
      "8   the value ad and then back into whatever is ne...   \n",
      "9   has to be how do you participate and have perm...   \n",
      "10  about sort of the progress we're making on Qua...   \n",
      "11  I could play more uh but you know from time to...   \n",
      "12  meaning for themselves and so that's I think w...   \n",
      "13  empathy is an important important skill for al...   \n",
      "14  coworker a better uh innovator yeah thanks for...   \n",
      "15  that mindset and so I've grown up around it an...   \n",
      "16  essentially how that's my framework for life a...   \n",
      "17  mind to compress uh thought whether it's code ...   \n",
      "18  [Music] this video is for educational purposes...   \n",
      "19  all right so first question everybody's asking...   \n",
      "20  so let's hop on down to the desktop and take a...   \n",
      "21  anything like that just throwing that out ther...   \n",
      "22  this is going to be pretty cool so check out w...   \n",
      "23  anywhere except for right over USB this is cra...   \n",
      "24  it'll be running the air tag so super cool all...   \n",
      "25  that's playing on the screen and on the window...   \n",
      "\n",
      "                                     file_name_prefix  prev_index  next_index  \n",
      "0   Satya Nadella - CEO of Microsoft | In Good Com...         NaN         1.0  \n",
      "1   Satya Nadella - CEO of Microsoft | In Good Com...         0.0         2.0  \n",
      "2   Satya Nadella - CEO of Microsoft | In Good Com...         1.0         3.0  \n",
      "3   Satya Nadella - CEO of Microsoft | In Good Com...         2.0         4.0  \n",
      "4   Satya Nadella - CEO of Microsoft | In Good Com...         3.0         5.0  \n",
      "5   Satya Nadella - CEO of Microsoft | In Good Com...         4.0         6.0  \n",
      "6   Satya Nadella - CEO of Microsoft | In Good Com...         5.0         7.0  \n",
      "7   Satya Nadella - CEO of Microsoft | In Good Com...         6.0         8.0  \n",
      "8   Satya Nadella - CEO of Microsoft | In Good Com...         7.0         9.0  \n",
      "9   Satya Nadella - CEO of Microsoft | In Good Com...         8.0        10.0  \n",
      "10  Satya Nadella - CEO of Microsoft | In Good Com...         9.0        11.0  \n",
      "11  Satya Nadella - CEO of Microsoft | In Good Com...        10.0        12.0  \n",
      "12  Satya Nadella - CEO of Microsoft | In Good Com...        11.0        13.0  \n",
      "13  Satya Nadella - CEO of Microsoft | In Good Com...        12.0        14.0  \n",
      "14  Satya Nadella - CEO of Microsoft | In Good Com...        13.0        15.0  \n",
      "15  Satya Nadella - CEO of Microsoft | In Good Com...        14.0        16.0  \n",
      "16  Satya Nadella - CEO of Microsoft | In Good Com...        15.0        17.0  \n",
      "17  Satya Nadella - CEO of Microsoft | In Good Com...        16.0         NaN  \n",
      "18  Momentum Firmware for Flipper Zero : The Next ...         NaN        19.0  \n",
      "19  Momentum Firmware for Flipper Zero : The Next ...        18.0        20.0  \n",
      "20  Momentum Firmware for Flipper Zero : The Next ...        19.0        21.0  \n",
      "21  Momentum Firmware for Flipper Zero : The Next ...        20.0        22.0  \n",
      "22  Momentum Firmware for Flipper Zero : The Next ...        21.0        23.0  \n",
      "23  Momentum Firmware for Flipper Zero : The Next ...        22.0        24.0  \n",
      "24  Momentum Firmware for Flipper Zero : The Next ...        23.0        25.0  \n",
      "25  Momentum Firmware for Flipper Zero : The Next ...        24.0         NaN  \n"
     ]
    }
   ],
   "source": [
    "def main():\n",
    "    driver = webdriver.Chrome()\n",
    "\n",
    "    all_results = []  # Start with an empty list to store dictionaries\n",
    "\n",
    "    video_urls = []\n",
    "    video_urls.extend([{\"link\": \"https://www.youtube.com/watch?v=yNuLPWu38IU&ab_channel=NorgesBankInvestmentManagement\", \"channel\": \"In Good Company\", \"episode\": \"Satya Nadella - CEO of Microsoft | In Good Company | Podcast | Norges Bank Investment Management\"},\n",
    "                      {\"link\": \"https://www.youtube.com/watch?v=rsa1_d8Z0Zc&ab_channel=NoPriors%3AAI%2CMachineLearning%2CTech%2C%26Startups\", \"channel\": \"No Priors\", \"episode\": \"No Priors Ep. 57 | With LangChain CEO and Co-Founder Harrison Chase\"}])\n",
    "\n",
    "    episodes_to_transcripts = {}\n",
    "\n",
    "    curr_base_idx = 0\n",
    "\n",
    "    for video in video_urls:\n",
    "        episode = video['episode']\n",
    "        channel = video['channel']\n",
    "        id = video['link'].split(\"v=\")[1]\n",
    "        print(\"id is: \" + id)\n",
    "\n",
    "        if episode not in episodes_to_transcripts:\n",
    "            transcript_data = get_transcript(id)\n",
    "            episodes_to_transcripts[episode] = transcript_data\n",
    "        \n",
    "        download_audio(video['link'])\n",
    "\n",
    "        files = glob.glob(f'{episode[:10]}*.json')\n",
    "        if not files:\n",
    "            raise FileNotFoundError(\"No JSON file found matching the pattern.\")\n",
    "        json_file = files[0]\n",
    "        with open(json_file, 'r') as file:\n",
    "            data = json.load(file)\n",
    "            chapters = data['chapters']\n",
    "        \n",
    "        for index, chapter in enumerate(chapters):\n",
    "            extracted_text = extract_text(episodes_to_transcripts[episode], chapter['start_time'], chapter['end_time'])\n",
    "\n",
    "            chapter_dict = {\n",
    "                \"channel\": channel,\n",
    "                \"episode\": episode,\n",
    "                \"chapter\": chapter['title'],\n",
    "                \"start_time\": chapter['start_time'],\n",
    "                \"end_time\": chapter['end_time'],\n",
    "                \"text\": extracted_text,\n",
    "                \"file_name_prefix\": f\"{episode} - {str(index + 1).zfill(3)}\",\n",
    "                \"prev_index\": curr_base_idx + index - 1 if index > 0 else None,\n",
    "                \"next_index\": curr_base_idx + index + 1 if index < len(chapters) - 1 else None\n",
    "            }\n",
    "            \n",
    "            all_results.append(chapter_dict)  # Add dictionaries to the list\n",
    "        curr_base_idx += len(chapters)\n",
    "\n",
    "    driver.quit()\n",
    "\n",
    "    columns = ['channel', 'episode', 'chapter', 'start_time', 'end_time', 'text', 'file_name_prefix', 'prev_index', 'next_index']\n",
    "    return pd.DataFrame(all_results, columns=columns)  # Create DataFrame from list of dictionaries\n",
    "\n",
    "# Run the script\n",
    "df = main()\n",
    "print(df)"
   ]
  },
  {
   "cell_type": "code",
   "execution_count": 251,
   "metadata": {},
   "outputs": [],
   "source": [
    "df.to_csv('ballsack.csv', index=False)"
   ]
  },
  {
   "cell_type": "code",
   "execution_count": null,
   "metadata": {},
   "outputs": [],
   "source": []
  }
 ],
 "metadata": {
  "kernelspec": {
   "display_name": "hackathon24s",
   "language": "python",
   "name": "python3"
  },
  "language_info": {
   "codemirror_mode": {
    "name": "ipython",
    "version": 3
   },
   "file_extension": ".py",
   "mimetype": "text/x-python",
   "name": "python",
   "nbconvert_exporter": "python",
   "pygments_lexer": "ipython3",
   "version": "3.12.0"
  }
 },
 "nbformat": 4,
 "nbformat_minor": 2
}
