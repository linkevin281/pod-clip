{
 "cells": [
  {
   "cell_type": "code",
   "execution_count": 28,
   "metadata": {},
   "outputs": [],
   "source": [
    "from selenium import webdriver\n",
    "from selenium.webdriver.common.by import By\n",
    "from selenium.webdriver.support.ui import WebDriverWait\n",
    "from selenium.webdriver.support import expected_conditions as EC\n",
    "import pandas as pd\n",
    "import requests\n",
    "import time\n",
    "from youtube_transcript_api import YouTubeTranscriptApi\n",
    "import re\n",
    "import yt_dlp"
   ]
  },
  {
   "cell_type": "code",
   "execution_count": 29,
   "metadata": {},
   "outputs": [],
   "source": [
    "AUDIO_DIR = \"audio\""
   ]
  },
  {
   "cell_type": "code",
   "execution_count": 30,
   "metadata": {},
   "outputs": [],
   "source": [
    "def get_video_links(driver, channel_url):\n",
    "    driver.get(channel_url)\n",
    "    # TODO: stop this from being harcoded\n",
    "    time.sleep(4)\n",
    "    video_data = []\n",
    "\n",
    "    # # Scroll to load videos (modify as necessary to ensure page loads)\n",
    "    # for _ in range(5):\n",
    "    #     driver.execute_script(\"window.scrollTo(0, document.documentElement.scrollHeight);\")\n",
    "    #     time.sleep(2)  # adjust as needed\n",
    "\n",
    "    # Extract the channel name from the channel URL using regex\n",
    "    pattern = r\"youtube\\.com\\/@([^\\/]+)\\/videos\"\n",
    "    match = re.search(pattern, channel_url)\n",
    "    channel_name = match.group(1) if match else \"Unknown Channel\"\n",
    "    # print(\"channel_name: \", channel_name)\n",
    "\n",
    "    # TODO: fix this\n",
    "    time.sleep(4)\n",
    "\n",
    "    # Capture existing video titles without waiting for all to be present\n",
    "    videos = driver.find_elements(By.ID, 'video-title-link')\n",
    "    if len(videos) == 0:\n",
    "        print(\"shiiiii no vids!\")\n",
    "    \n",
    "    # Collect data for the first 5 videos\n",
    "    for vid in videos[:1]:\n",
    "        print(\"in the loop!\")\n",
    "        video_title = vid.get_attribute('title')\n",
    "        link = vid.get_attribute('href')\n",
    "        # print(\"video_link: \", link)\n",
    "        # print(\"video_title: \", video_title)\n",
    "        video_data.append({\"link\": link, \"channel\": channel_name, \"episode\": video_title})\n",
    "    \n",
    "    return video_data"
   ]
  },
  {
   "cell_type": "code",
   "execution_count": 31,
   "metadata": {},
   "outputs": [],
   "source": [
    "def get_transcript(id: str) -> None:\n",
    "    transcript = YouTubeTranscriptApi.get_transcript(\n",
    "        id, languages=('en', 'en-US', 'en-GB'))\n",
    "    return transcript"
   ]
  },
  {
   "cell_type": "code",
   "execution_count": 32,
   "metadata": {},
   "outputs": [],
   "source": [
    "def download_audio(url, file_name):\n",
    "    print(\"in download_audio\")\n",
    "    try:\n",
    "        ydl_opts = {\n",
    "            'format': 'bestaudio/best',\n",
    "            'postprocessors': [{\n",
    "                'key': 'FFmpegExtractAudio',\n",
    "                'preferredcodec': 'mp3',\n",
    "                'preferredquality': '192',\n",
    "            },\n",
    "            {\n",
    "                'key': 'FFmpegSplitChapters',  # Adding split chapters processor\n",
    "                'force_keyframes': True,  # Optional: force keyframes at the start of each chapter\n",
    "                }],\n",
    "            'noplaylist': True,\n",
    "            'writeinfojson': True,  # Optional: write metadata into a JSON file\n",
    "            'writeannotations': True,  # Optional: write annotations into a file\n",
    "        }\n",
    "\n",
    "        with yt_dlp.YoutubeDL(ydl_opts) as ydl:\n",
    "            ydl.download([url])\n",
    "    except Exception as e:\n",
    "        print(\"Error downloading audio: \", e)"
   ]
  },
  {
   "cell_type": "code",
   "execution_count": 33,
   "metadata": {},
   "outputs": [
    {
     "name": "stdout",
     "output_type": "stream",
     "text": [
      "in the loop!\n",
      "in the loop!\n",
      "in download_audio\n",
      "[youtube] Extracting URL: https://www.youtube.com/watch?v=dX7d6bRJI9k\n",
      "[youtube] dX7d6bRJI9k: Downloading webpage\n",
      "[youtube] dX7d6bRJI9k: Downloading ios player API JSON\n",
      "[youtube] dX7d6bRJI9k: Downloading android player API JSON\n",
      "[youtube] dX7d6bRJI9k: Downloading m3u8 information\n",
      "[info] dX7d6bRJI9k: Downloading 1 format(s): 251\n",
      "[info] Writing video metadata as JSON to: Politics & the Future of Tech [dX7d6bRJI9k].info.json\n"
     ]
    },
    {
     "name": "stderr",
     "output_type": "stream",
     "text": [
      "WARNING: There are no annotations to write.\n"
     ]
    },
    {
     "name": "stdout",
     "output_type": "stream",
     "text": [
      "[download] Destination: Politics & the Future of Tech [dX7d6bRJI9k].webm\n",
      "[download] 100% of  105.43MiB in 00:00:03 at 29.43MiB/s    \n",
      "[ExtractAudio] Destination: Politics & the Future of Tech [dX7d6bRJI9k].mp3\n",
      "Deleting original file Politics & the Future of Tech [dX7d6bRJI9k].webm (pass -k to keep)\n",
      "[SplitChapters] Re-encoding \"Politics & the Future of Tech [dX7d6bRJI9k].mp3\" with appropriate keyframes\n",
      "[SplitChapters] Splitting video by chapters; 21 chapters found\n",
      "[SplitChapters] Chapter 001; Destination: Politics & the Future of Tech - 001 Teaser [dX7d6bRJI9k].mp3\n",
      "[SplitChapters] Chapter 002; Destination: Politics & the Future of Tech - 002 Intro [dX7d6bRJI9k].mp3\n",
      "[SplitChapters] Chapter 003; Destination: Politics & the Future of Tech - 003 Why get involved in politics now？ [dX7d6bRJI9k].mp3\n",
      "[SplitChapters] Chapter 004; Destination: Politics & the Future of Tech - 004 Big Tech's involvement in political process [dX7d6bRJI9k].mp3\n",
      "[SplitChapters] Chapter 005; Destination: Politics & the Future of Tech - 005 Q： In what ways do you see the relationship between Silicon Valley and D.C. evolving？ [dX7d6bRJI9k].mp3\n",
      "[SplitChapters] Chapter 006; Destination: Politics & the Future of Tech - 006 Where we need regulation [dX7d6bRJI9k].mp3\n",
      "[SplitChapters] Chapter 007; Destination: Politics & the Future of Tech - 007 Determining where politicians stand with tech [dX7d6bRJI9k].mp3\n",
      "[SplitChapters] Chapter 008; Destination: Politics & the Future of Tech - 008 Future regulation and potential for destruction [dX7d6bRJI9k].mp3\n",
      "[SplitChapters] Chapter 009; Destination: Politics & the Future of Tech - 009 Intersection of regulation and technology [dX7d6bRJI9k].mp3\n",
      "[SplitChapters] Chapter 010; Destination: Politics & the Future of Tech - 010 Big Tech and the reality of competition [dX7d6bRJI9k].mp3\n",
      "[SplitChapters] Chapter 011; Destination: Politics & the Future of Tech - 011 Q： What would happen if there was zero regulation of AI？ [dX7d6bRJI9k].mp3\n",
      "[SplitChapters] Chapter 012; Destination: Politics & the Future of Tech - 012 Q： How important is the development of decentralized AI and how can the U.S. retain innovation leadership？ [dX7d6bRJI9k].mp3\n",
      "[SplitChapters] Chapter 013; Destination: Politics & the Future of Tech - 013 Research universities and lack of AI funding [dX7d6bRJI9k].mp3\n",
      "[SplitChapters] Chapter 014; Destination: Politics & the Future of Tech - 014 Bipolar tech world ⧸ U.S. Vs. China [dX7d6bRJI9k].mp3\n",
      "[SplitChapters] Chapter 015; Destination: Politics & the Future of Tech - 015 Q： Are European AI companies becoming less interesting investment targets for U.S. based VC’s due to the regulatory landscape？ [dX7d6bRJI9k].mp3\n",
      "[SplitChapters] Chapter 016; Destination: Politics & the Future of Tech - 016 Q： What countries could be receptive to Techno-Optimism？ [dX7d6bRJI9k].mp3\n",
      "[SplitChapters] Chapter 017; Destination: Politics & the Future of Tech - 017 Q： Will the lobbying efforts by good-faith American crypto firms will be able to move the needle politically？ [dX7d6bRJI9k].mp3\n",
      "[SplitChapters] Chapter 018; Destination: Politics & the Future of Tech - 018 Thoughts on recent TikTok legislation [dX7d6bRJI9k].mp3\n",
      "[SplitChapters] Chapter 019; Destination: Politics & the Future of Tech - 019 Q： How do you find common ground with groups that you can benefit from working with, but are opposed ideologically？ [dX7d6bRJI9k].mp3\n",
      "[SplitChapters] Chapter 020; Destination: Politics & the Future of Tech - 020 Q： Would either of you ever consider running for office？ [dX7d6bRJI9k].mp3\n",
      "[SplitChapters] Chapter 021; Destination: Politics & the Future of Tech - 021 Sign off [dX7d6bRJI9k].mp3\n",
      "in download_audio\n",
      "[youtube] Extracting URL: https://www.youtube.com/watch?v=c3bGpcO_C9k\n",
      "[youtube] c3bGpcO_C9k: Downloading webpage\n",
      "[youtube] c3bGpcO_C9k: Downloading ios player API JSON\n",
      "[youtube] c3bGpcO_C9k: Downloading android player API JSON\n",
      "[youtube] c3bGpcO_C9k: Downloading m3u8 information\n",
      "[info] c3bGpcO_C9k: Downloading 1 format(s): 251\n",
      "[info] Writing video metadata as JSON to: 584. How to Pave the Road to Hell ｜ Freakonomics Radio [c3bGpcO_C9k].info.json\n"
     ]
    },
    {
     "name": "stderr",
     "output_type": "stream",
     "text": [
      "WARNING: There are no annotations to write.\n"
     ]
    },
    {
     "name": "stdout",
     "output_type": "stream",
     "text": [
      "[download] Destination: 584. How to Pave the Road to Hell ｜ Freakonomics Radio [c3bGpcO_C9k].webm\n",
      "[download] 100% of   38.04MiB in 00:00:02 at 14.40MiB/s  \n",
      "[ExtractAudio] Destination: 584. How to Pave the Road to Hell ｜ Freakonomics Radio [c3bGpcO_C9k].mp3\n",
      "Deleting original file 584. How to Pave the Road to Hell ｜ Freakonomics Radio [c3bGpcO_C9k].webm (pass -k to keep)\n",
      "[SplitChapters] Chapter information is unavailable\n",
      "                                          link       channel  \\\n",
      "0  https://www.youtube.com/watch?v=dX7d6bRJI9k          a16z   \n",
      "1  https://www.youtube.com/watch?v=c3bGpcO_C9k  Freakonomics   \n",
      "\n",
      "                                             episode  \\\n",
      "0                      Politics & the Future of Tech   \n",
      "1  584. How to Pave the Road to Hell | Freakonomi...   \n",
      "\n",
      "                                          transcript  \\\n",
      "0  [{'text': 'you know ignoring Tech uh is kind o...   \n",
      "1  [{'text': 'hey there it's Steven Dubner before...   \n",
      "\n",
      "                                               audio  \n",
      "0             a16z_Politics & the Future of Tech.mp3  \n",
      "1  Freakonomics_584. How to Pave the Road to Hell...  \n"
     ]
    }
   ],
   "source": [
    "def main():\n",
    "    driver = webdriver.Chrome()\n",
    "\n",
    "    channels = [\n",
    "        \"https://www.youtube.com/@a16z/videos\",\n",
    "        \"https://www.youtube.com/@Freakonomics/videos\",\n",
    "        # add more channels as needed\n",
    "    ]\n",
    "\n",
    "    all_results = []\n",
    "    for channel in channels:\n",
    "        new_video_list = get_video_links(driver, channel)\n",
    "        for video in new_video_list:\n",
    "            all_results.append(video)\n",
    "\n",
    "    for video in all_results:\n",
    "        id = video['link'].split(\"v=\")[1]\n",
    "        channel = video['channel']\n",
    "        episode = video['episode']\n",
    "        video['transcript'] = get_transcript(id)\n",
    "        video['audio'] = channel + \"_\" + episode + \".mp3\"\n",
    "        download_audio(video['link'], f\"{channel}_{episode}\")\n",
    "\n",
    "    driver.quit()\n",
    "    return pd.DataFrame(all_results)\n",
    "\n",
    "# Run the script\n",
    "df = main()\n",
    "print(df)"
   ]
  },
  {
   "cell_type": "code",
   "execution_count": 34,
   "metadata": {},
   "outputs": [],
   "source": [
    "df.to_csv('ballsack.csv', index=False)"
   ]
  },
  {
   "cell_type": "code",
   "execution_count": null,
   "metadata": {},
   "outputs": [],
   "source": []
  }
 ],
 "metadata": {
  "kernelspec": {
   "display_name": "hackathon24s",
   "language": "python",
   "name": "python3"
  },
  "language_info": {
   "codemirror_mode": {
    "name": "ipython",
    "version": 3
   },
   "file_extension": ".py",
   "mimetype": "text/x-python",
   "name": "python",
   "nbconvert_exporter": "python",
   "pygments_lexer": "ipython3",
   "version": "3.12.0"
  }
 },
 "nbformat": 4,
 "nbformat_minor": 2
}
