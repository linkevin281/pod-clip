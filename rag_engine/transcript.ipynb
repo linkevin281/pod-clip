{
 "cells": [
  {
   "cell_type": "code",
   "execution_count": 1,
   "metadata": {},
   "outputs": [
    {
     "name": "stderr",
     "output_type": "stream",
     "text": [
      "/opt/homebrew/anaconda3/envs/hackathon24s/lib/python3.10/site-packages/tqdm/auto.py:21: TqdmWarning: IProgress not found. Please update jupyter and ipywidgets. See https://ipywidgets.readthedocs.io/en/stable/user_install.html\n",
      "  from .autonotebook import tqdm as notebook_tqdm\n"
     ]
    }
   ],
   "source": [
    "import sys, os, datetime, dotenv, time, re, json\n",
    "from pymongo import MongoClient\n",
    "from pymongo.server_api import ServerApi\n",
    "from transformers import AutoTokenizer, AutoModelForCausalLM\n",
    "import string\n",
    "import nltk\n",
    "from youtube_transcript_api import YouTubeTranscriptApi\n"
   ]
  },
  {
   "cell_type": "code",
   "execution_count": 6,
   "metadata": {},
   "outputs": [],
   "source": [
    "TRANSCRIPT_DIR = \"transcripts\"\n",
    "video_links = [\n",
    "    {\"link\": \"https://www.youtube.com/watch?v=ICnFtfN-sUc\", \"name\": \"twitch\"},\n",
    "    {\"link\": \"https://www.youtube.com/watch?v=Yqasp_4x6zw\", \"name\": \"mongodb\"}\n",
    "]\n"
   ]
  },
  {
   "cell_type": "code",
   "execution_count": 7,
   "metadata": {},
   "outputs": [],
   "source": [
    "def download_transcript(id: str, filename: str, overwrite: bool) -> None:\n",
    "\n",
    "    if not overwrite and os.path.exists(filename):\n",
    "        print(f\"Transcript {filename} already downloaded\")\n",
    "        return\n",
    "\n",
    "    transcript = YouTubeTranscriptApi.get_transcript(\n",
    "        id, languages=('en', 'en-US', 'en-GB'))\n",
    "    global_time = 0\n",
    "    print(f\"Downloading transcript for {id} to {filename}\")\n",
    "    with open(filename, \"w\") as f:\n",
    "        for line in transcript:\n",
    "            new_line = \"\"\n",
    "            # add timestamp\n",
    "            new_line += f\"[[{global_time}]]\"\n",
    "            new_line += line['text']\n",
    "            f.write(f'{new_line}\\n')\n",
    "            global_time += float(line['duration'])\n",
    "            global_time = round(global_time, 2)\n",
    "\n",
    "        print(f\"Downloaded transcript for {id} to {filename}\")\n",
    "        return"
   ]
  },
  {
   "cell_type": "code",
   "execution_count": 8,
   "metadata": {},
   "outputs": [
    {
     "name": "stdout",
     "output_type": "stream",
     "text": [
      "Downloading transcript for ICnFtfN-sUc to transcripts/transcript_twitch.txt\n",
      "Downloaded transcript for ICnFtfN-sUc to transcripts/transcript_twitch.txt\n",
      "Downloading transcript for Yqasp_4x6zw to transcripts/transcript_mongodb.txt\n",
      "Downloaded transcript for Yqasp_4x6zw to transcripts/transcript_mongodb.txt\n"
     ]
    }
   ],
   "source": [
    "transcripts = []\n",
    "for video in video_links:\n",
    "    id = video['link'].split(\"v=\")[1]\n",
    "    name = video['name']\n",
    "    file_path = f\"{TRANSCRIPT_DIR}/transcript_{name}.txt\"\n",
    "    download_transcript(id, file_path, overwrite=True)\n"
   ]
  },
  {
   "cell_type": "code",
   "execution_count": null,
   "metadata": {},
   "outputs": [],
   "source": []
  },
  {
   "cell_type": "code",
   "execution_count": null,
   "metadata": {},
   "outputs": [],
   "source": []
  }
 ],
 "metadata": {
  "kernelspec": {
   "display_name": "hackathon24s",
   "language": "python",
   "name": "python3"
  },
  "language_info": {
   "codemirror_mode": {
    "name": "ipython",
    "version": 3
   },
   "file_extension": ".py",
   "mimetype": "text/x-python",
   "name": "python",
   "nbconvert_exporter": "python",
   "pygments_lexer": "ipython3",
   "version": "3.10.14"
  }
 },
 "nbformat": 4,
 "nbformat_minor": 2
}
