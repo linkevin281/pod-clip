{
 "cells": [
  {
   "cell_type": "code",
   "execution_count": 1,
   "metadata": {},
   "outputs": [
    {
     "name": "stderr",
     "output_type": "stream",
     "text": [
      "You try to use a model that was created with version 2.7.0.dev0, however, your version is 2.7.0. This might cause unexpected behavior or errors. In that case, try to update to the latest version.\n",
      "\n",
      "\n",
      "\n"
     ]
    }
   ],
   "source": [
    "import dotenv, os, torch\n",
    "from pinecone import Pinecone\n",
    "from sentence_transformers import SentenceTransformer\n",
    "from main import query_pinecone_from_embedding, query_controller, merge_audio\n",
    "\n",
    "device = \"cuda\" if torch.cuda.is_available() else \"cpu\"\n",
    "pc = Pinecone(api_key=os.getenv(\"PINECONE_API_KEY\"), environment=\"production\")\n",
    "pc_index = pc.Index(\"hackathon24s\")\n",
    "model = SentenceTransformer(\"Snowflake/snowflake-arctic-embed-l\").to(device)\n"
   ]
  },
  {
   "cell_type": "code",
   "execution_count": 2,
   "metadata": {},
   "outputs": [
    {
     "name": "stdout",
     "output_type": "stream",
     "text": [
      "[('128', 0.797247, 'a16z', 'Sign off'), ('53', 0.740022838, 'Norges Bank Investment Management', 'Introduction'), ('139', 0.73606962, 'a16z', 'Call to action for builders, researchers, and developers'), ('47', 0.732804894, 'The Logan Bartlett Show', 'The Impact of Artificial Intelligence in Business'), ('111', 0.722399414, 'a16z', \"Big Tech's involvement in political process\")]\n"
     ]
    }
   ],
   "source": [
    "embedding = query_controller(\"I'd like to learn more about Google and Gemini\", model)\n",
    "pc_response = query_pinecone_from_embedding(embedding, pc_index)\n",
    "custom_pod_s3_url = await merge_audio(pc_response)\n",
    "print(custom_pod_s3_url)\n"
   ]
  }
 ],
 "metadata": {
  "kernelspec": {
   "display_name": "Python 3",
   "language": "python",
   "name": "python3"
  },
  "language_info": {
   "codemirror_mode": {
    "name": "ipython",
    "version": 3
   },
   "file_extension": ".py",
   "mimetype": "text/x-python",
   "name": "python",
   "nbconvert_exporter": "python",
   "pygments_lexer": "ipython3",
   "version": "3.10.12"
  }
 },
 "nbformat": 4,
 "nbformat_minor": 2
}
