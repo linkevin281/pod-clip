{
 "cells": [
  {
   "cell_type": "code",
   "execution_count": 1,
   "metadata": {},
   "outputs": [],
   "source": [
    "import os\n",
    "import torch, boto3, dotenv, asyncio\n",
    "from pydub import AudioSegment"
   ]
  },
  {
   "cell_type": "code",
   "execution_count": 2,
   "metadata": {},
   "outputs": [],
   "source": [
    "INTRO_AUDIO_PATH = \"../audio/intro\"\n",
    "MERGED_AUDIO_PATH = \"../audio/merged\"\n",
    "CLIP_AUDIO_PATH = \"../audio/clip\"\n",
    "\n",
    "def merge_audio(video_id):\n",
    "    \"\"\"\n",
    "    Function to merge intro with clip. Will need to be able to find the right clip file\n",
    "        - video_id: string of the video id\n",
    "    \"\"\"\n",
    "    intro_track = AudioSegment.from_file(f\"{INTRO_AUDIO_PATH}/{video_id}_intro.wav\")\n",
    "\n",
    "    ## TODO: Get track path\n",
    "    clip_track_path = \"\"\n",
    "    clip_track = AudioSegment.from_file(clip_track_path) #.mp3?\n",
    "\n",
    "    merged_track = intro_track + clip_track\n",
    "    \n",
    "    # Construct the output filename\n",
    "    output_file_path = f'{CLIP_AUDIO_PATH}/{video_id}_clip.mp3'\n",
    "    merged_track.export(output_file_path, format=\"mp3\")\n",
    "    return output_file_path\n"
   ]
  },
  {
   "cell_type": "code",
   "execution_count": null,
   "metadata": {},
   "outputs": [],
   "source": []
  }
 ],
 "metadata": {
  "kernelspec": {
   "display_name": "Python 3",
   "language": "python",
   "name": "python3"
  },
  "language_info": {
   "codemirror_mode": {
    "name": "ipython",
    "version": 3
   },
   "file_extension": ".py",
   "mimetype": "text/x-python",
   "name": "python",
   "nbconvert_exporter": "python",
   "pygments_lexer": "ipython3",
   "version": "3.10.12"
  }
 },
 "nbformat": 4,
 "nbformat_minor": 2
}
