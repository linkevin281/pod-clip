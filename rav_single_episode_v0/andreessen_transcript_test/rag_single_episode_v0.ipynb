{
 "cells": [
  {
   "cell_type": "markdown",
   "metadata": {},
   "source": [
    "# RAG on Single Episode v0 MVP\n",
    "__Author:__ Jack Friedman <br>\n",
    "__Purpose:__ RAG pipeline on a single transcript"
   ]
  },
  {
   "cell_type": "code",
   "execution_count": 33,
   "metadata": {},
   "outputs": [],
   "source": [
    "import os\n",
    "import dotenv\n",
    "from langchain_community.document_loaders import TextLoader\n",
    "from langchain_experimental.text_splitter import SemanticChunker\n",
    "from langchain.embeddings import HuggingFaceEmbeddings\n",
    "from langchain_community.vectorstores import FAISS\n",
    "import matplotlib.pyplot as plt"
   ]
  },
  {
   "cell_type": "code",
   "execution_count": 31,
   "metadata": {},
   "outputs": [
    {
     "ename": "AttributeError",
     "evalue": "module 'dotenv' has no attribute 'load_dotenv'",
     "output_type": "error",
     "traceback": [
      "\u001b[0;31m---------------------------------------------------------------------------\u001b[0m",
      "\u001b[0;31mAttributeError\u001b[0m                            Traceback (most recent call last)",
      "Cell \u001b[0;32mIn[31], line 1\u001b[0m\n\u001b[0;32m----> 1\u001b[0m \u001b[43mdotenv\u001b[49m\u001b[38;5;241;43m.\u001b[39;49m\u001b[43mload_dotenv\u001b[49m()\n\u001b[1;32m      2\u001b[0m api_token \u001b[38;5;241m=\u001b[39m os\u001b[38;5;241m.\u001b[39mgetenv(\u001b[38;5;124m'\u001b[39m\u001b[38;5;124mHUGGINGFACEHUB_API_TOKEN\u001b[39m\u001b[38;5;124m'\u001b[39m)\n",
      "\u001b[0;31mAttributeError\u001b[0m: module 'dotenv' has no attribute 'load_dotenv'"
     ]
    }
   ],
   "source": [
    "dotenv.load_dotenv()\n",
    "api_token = os.getenv('HUGGINGFACEHUB_API_TOKEN')"
   ]
  },
  {
   "cell_type": "code",
   "execution_count": 20,
   "metadata": {},
   "outputs": [
    {
     "ename": "ImportError",
     "evalue": "cannot import name 'load_dotenv' from 'dotenv' (unknown location)",
     "output_type": "error",
     "traceback": [
      "\u001b[0;31m---------------------------------------------------------------------------\u001b[0m",
      "\u001b[0;31mImportError\u001b[0m                               Traceback (most recent call last)",
      "Cell \u001b[0;32mIn[20], line 1\u001b[0m\n\u001b[0;32m----> 1\u001b[0m \u001b[38;5;28;01mfrom\u001b[39;00m \u001b[38;5;21;01mdotenv\u001b[39;00m \u001b[38;5;28;01mimport\u001b[39;00m load_dotenv\n\u001b[1;32m      3\u001b[0m load_dotenv()\n",
      "\u001b[0;31mImportError\u001b[0m: cannot import name 'load_dotenv' from 'dotenv' (unknown location)"
     ]
    }
   ],
   "source": [
    "from dotenv import load_dotenv\n",
    "\n",
    "load_dotenv()"
   ]
  },
  {
   "cell_type": "code",
   "execution_count": 13,
   "metadata": {},
   "outputs": [
    {
     "ename": "AttributeError",
     "evalue": "module 'dotenv' has no attribute 'load_dotenv'",
     "output_type": "error",
     "traceback": [
      "\u001b[0;31m---------------------------------------------------------------------------\u001b[0m",
      "\u001b[0;31mAttributeError\u001b[0m                            Traceback (most recent call last)",
      "Cell \u001b[0;32mIn[13], line 1\u001b[0m\n\u001b[0;32m----> 1\u001b[0m \u001b[43mdotenv\u001b[49m\u001b[38;5;241;43m.\u001b[39;49m\u001b[43mload_dotenv\u001b[49m()\n\u001b[1;32m      2\u001b[0m api_token \u001b[38;5;241m=\u001b[39m os\u001b[38;5;241m.\u001b[39mgetenv(\u001b[38;5;124m'\u001b[39m\u001b[38;5;124mHUGGINGFACEHUB_API_TOKEN\u001b[39m\u001b[38;5;124m'\u001b[39m)\n",
      "\u001b[0;31mAttributeError\u001b[0m: module 'dotenv' has no attribute 'load_dotenv'"
     ]
    }
   ],
   "source": [
    "dotenv.load_dotenv()\n",
    "api_token = os.getenv('HUGGINGFACEHUB_API_TOKEN')"
   ]
  },
  {
   "cell_type": "markdown",
   "metadata": {},
   "source": [
    "### Step 0: Load text"
   ]
  },
  {
   "cell_type": "code",
   "execution_count": 3,
   "metadata": {},
   "outputs": [
    {
     "name": "stdout",
     "output_type": "stream",
     "text": [
      "137\n"
     ]
    }
   ],
   "source": [
    "# (Raw transcript) Just using a simple text loader for v0 \n",
    "loader = TextLoader(\"sample_transcript.txt\")\n",
    "embeddings_model = HuggingFaceEmbeddings()\n",
    "text_splitter = SemanticChunker(embeddings_model,\n",
    "                                breakpoint_threshold_type=\"percentile\")\n",
    "\n",
    "docs = loader.load_and_split(text_splitter)\n",
    "print(len(docs))"
   ]
  },
  {
   "cell_type": "code",
   "execution_count": null,
   "metadata": {},
   "outputs": [],
   "source": []
  },
  {
   "cell_type": "markdown",
   "metadata": {},
   "source": [
    "### Step 1: Set up retriever"
   ]
  },
  {
   "cell_type": "code",
   "execution_count": 4,
   "metadata": {},
   "outputs": [],
   "source": [
    "# Set up vector store and retriever\n",
    "db = FAISS.from_documents(docs, embeddings_model)\n",
    "retriever = db.as_retriever()"
   ]
  },
  {
   "cell_type": "markdown",
   "metadata": {},
   "source": [
    "### Step 2: Get relevant documents from query "
   ]
  },
  {
   "cell_type": "code",
   "execution_count": 5,
   "metadata": {},
   "outputs": [
    {
     "data": {
      "text/plain": [
       "[Document(page_content=\"So what he, what he said, and I'm sure this is true. What he said was to make these large language models work, we need a lot of computer capacity and we need a lot of data. And, and we're gonna need to, we need billions of dollars. Basically, he said, I know how to raise $100 million for, for nonprofits. I don't know how to raise $10 billion for nonprofits. It's just hard to do that.\", metadata={'source': 'sample_transcript.txt'}),\n",
       " Document(page_content=\"Well, no. So it was a, it was, this was considered research, not development. And so the, the, the, the way that it was, it was like an internal scientific unit at a company. And so they actually published it as a paper. I see. And, and they're actually, there's a long history of this where this is actually a lot of the great breakthroughs over time have actually come out of like industrial research labs like this. And then they, and then the company that develops, it publishes it and then they don't realize until later that they should have kept it secret. But, but also the reason that they were able to hire all these great researchers out of all these universities is they promised them that they could publish their work, right? And so sort of part of the deal with these guys was that they would get to publish. So they, they had this key breaker in 2017. So, but, but it sort of became clear in the 20 tens that like there was finally progress being made and some of these systems were gonna start to work. And Elon had some conversation with \\nLarry Page\\n who was running \\nGoogle\\n at the time. And Larry said to Elon, you know, this A I thing is really gonna work and we're gonna end up with a is that are like, you know, much, you know, smarter and more powerful than people. And Elon said, well, aren't you worried that they're gonna like, have their own goals and they're gonna take over and they're not gonna want to surround anymore. And Larry's, Larry's response was you're being species, you're being racist, but towards your species. And if they're a better form of life, then they should take over and we should all die and humanity should go away. Now knowing Larry, I think there's at least a 50% chance he was joking, but Elon couldn't tell and took him seriously. And so Elon had a visceral reaction and was like, oh my God, like the big risk here is not just developing A I, the big risk here is \\nGoogle\\n develops A I and \\nLarry Page\\n is in control of it. And he does horrible, horrible things. And so he started, he's like, oh, so he called all these people who he knew. And he said we need to start the competitive effort to that today and we need to call it, I mean, it needs to be as opposed to \\nGoogle\\n's closed A I, it needs to be open A I and, and this was to protect the world is to protect the world in Elon's views, to protect the world. So, what Elon says is we need to go hire all the best researchers we can. Speaker 3\\n02:29:34\\nIt seems to be, that's what he's always done. It's like \\nTesla\\n was, cars need to be electric. Space X\\n was, if anything happens to the earth, we could live on \\nMars\\n, he's always motivated by saving the planet. Speaker 2\\n02:29:48\\nThat's right. And, and, and, and humanity. Right. Exactly. And humanity. Yeah.\", metadata={'source': 'sample_transcript.txt'}),\n",
       " Document(page_content=\"Basically in there. And so these people in the 19 thirties knew that there was this difference. And so they said, should we model these things after a calculating machine in which they are hyper literal, like you say almost autistic, right? Which is like they're just like it was like Savant like machines where they're like really good at running large numbers of mathematical calculations very fast and then we'll give people, the ability to write programs based on that, but they're never going to be good at patterns. They're never gonna be good at language. They're never gonna be good at, they're never gonna know what anything means. You know, they, they're always going to be hard to talk to. You're never gonna be able to use natural language interface. You know, they're never gonna be able to know the difference between, you know, the, the difference between a cat and a cinnamon roll and a photo. Like they're just not gonna be good at that. So they'll be like hyper literal in that way, it's super fast but hyper literal and then humans will just still be completely different or should we try to build computers that are modeled after the human brain? And, and so it actually turns out the, the first paper on the concept of the neural network, which is the architecture of Cha A GP T it was actually written in 1943. And the A I systems we use today are still based on the ideas in that paper. So it is 80 years ago, right? So they knew enough about neuron structures and synapses in the brain that they knew. They were 43 1943. No, but, but they knew and by the way, look, the field of A I started in like 1943 like that actually fired the starting gun. And actually people have worked for the last 80 years trying to get neural networks to work and they finally just started to work. But my point is like, they, they knew from the very beginning there were these two totally different ways of making computers and they knew what the trade offs were and they just were. But it just turned out that historically, they were able to make the one kind of computer for the last 80 years. And that created the computer as we know it today. And then it turns out there's this completely other way to make a computer and that's based on the, it, it's inspired by, it's not the same as the brain, but it's inspired by the structure of the brain. And as a consequence, it's a new kind of computer and a way to think about it is, it's a computer that's actually an A I computer is actually very bad at all. The hyper literal stuff, right? And so, for example, J GP T has this thing called Hallucinates. And so if you ask it a question and it knows the answer, it gives you the answer. If it doesn't know the answer, it just makes one up. Speaker 3\\n02:18:31\\nSo it's more creative and less accurate. Exactly. Speaker 2\\n02:18:34\\nSome, somebody once said that somebody said that one of the guys who studies this says A I is not like a computer, it's like a pretty good person. It's not like the best person, but it's like a pretty good person. And what do we know about? Pretty good people? They're right. A lot of the time but a lot of the time they're not. And can you always tell the difference? Not necessarily, you know? Do they sound as confident when they're wrong as when they're right? Yeah. Do they know? No, they don't if you ask. Speaker 3\\n02:18:56\\nIt sounds like a real issue if we've spent 80 years establishing the fact that what you're getting back from a computer is more like a results from the results from a calculator. But now we're getting these fuzzy results that are more like mediocre human results, even though we've had 80 years of what we think of as accurate, that could create confusion. Speaker 2\\n02:19:23\\nSo there was a court case about three months ago where a lawyer had Chet GP T write a legal argument to be presented to a judge in a court and it did it and it hallucinated several court cases precedents that don't exist and the judge caught, it just made them up, made him up and they sound great. By the way, they sound exactly like court cases. The whole thing hangs together logically. It's just literally not true. It's mentioned cases that didn't happen. And so, and it turns out if you submit false made up court cases in court, you get disbarred as a lawyer, like you're done being a lawyer. And so the judge basically like came very close to disbarring the lawyer on the spot and the lawyer is basically a lawyer. The judge is like, did you use judge EPT to do this? And the lawyer basically fessed up and the judge basically said, if you ever do this again, I'm going to disbar you and destroy your career. But it's exactly for that reason. But however, hallucination, creativity. Speaker 3\\n02:20:09\\nBe a great scene in a movie. For example, we find in a movie. Speaker 2\\n02:20:13\\nWell, so and it actually turns out so there, there are companies now building A I for lawyers and, and actually we, we, so we did a bunch of work, we haven't invested yet, but we've done, we've done a bunch of work in this space because one of the things that A I can do is it can like write, you can write legal briefs and if it doesn't hallucinate, they're actually really good legal briefs. And so we, we've been talking to like professional lawyers about this and what the, what the professional lawyers will tell you actually is, you actually don't just want accuracy. When you're thinking about writing legal briefs, you actually do want creativity because there are different ways to make legal arguments. And maybe the way that you've thought of on your own is not the best way to do it. And maybe if you had a copilot, right? Think of you're writing a legal brief, you're a lawyer, you have a legal, you're writing a legal brief, you have a copilot. Right. And, and that copilot is just giving you ideas, right? And some of the ideas are going to be great idea. Some of the ideas are gonna be terrible ideas, but they're all new ideas, the ideas where you don't have to sit and come up with them on your own. Right? And so what the lawyers are saying basically is like in that case, you actually, you actually, you want some hallucinating, right? You, you, you don't want make up a court case that didn't happen but you want, oh, here's a different way to make the same argument, right? Or, or you might also view it as like if you're writing a closing argument to be presented to a jury like that, you know, as you know, it's like a storytelling exercise. And so you might want actually, you know, some brainstorming, you don't want the thing to do it for you because you're the guy who has to stand up there and actually present it and you have to really be willing to stand behind it, but it might be helpful to have a writing partner that can actually help you do that. And so there, there's this sort of double edged, like the fact that it Hallucinates is both a big problem, but it's also magical because we've never had computers that make things up before. Like that's a brand new thing. If you had told me three years ago, we're gonna have computers that like make up like it's never, it's never happened. There's never been a way to do that. It's the same thing and now you're seeing it, it's the way to see this really clearly. Of course, is visual design, visual art, you know, coming out of like mid journey or da or these things where it will make up all of these crazy art things and you know, look half the time it will make up like it will. And you know, there's this famous thing, they've figured it out now. But for a long time, the way that you could tell that computer art was being made by algorithm was it just, it would give extra fingers, it just turned out that the training data it was trained on. It just like it just turns out like human, human bodies relatively straightforward, except that there are these like detailed finger appendages. And if you are looking at a billion photos or pictures of people, they have fingers in all kinds of different positions. And so the early versions of the A I basically just didn't know how to do fingers accurately. They fix that now, right where it no longer does that. But by the way, if you want it to, it still will, right? And so if you tell it, render me a scene where everybody has seven fingers, it will happily do it for you. And computers never used to be able to do that, right? Or if you just want to tell it to use it, one of the things you can do, it is really fun with these things is you can do it. You can say like use your imagination or, or you can say another thing you can do is you can say, so there's this thing called prompt engineering. So it's how do you write out the prompt that tells the A I what to do, right? So which is true for both a text A I and for an image A I do the prompt. And it turns out there was a research thing done by \\nGoogle\\n a few, a few months back about what's the optimal prompt that, that optimizes the chance that there won't be hallucinations that it's gonna be the most likely to be what's called factually grounded. And it turned out the opal prompt starts with, take a deep breath really gives you the best results, right? And, and, and so, and, and, and this gets to the, the, the amazingness of what's happening.\", metadata={'source': 'sample_transcript.txt'}),\n",
       " Document(page_content=\"Speaker 2\\n48:07\\nYeah, look. So, so, and I would say \\nGoogle\\n if it was in this interesting position where number one, they invented a lot of these A I technologies, right? And so the key breakthrough for Chet GP T actually happened at \\nGoogle\\n in 2017 in classic the company form, they sat on it. They didn't, they didn't use it. If you talk to people in \\nGoogle\\n, they will tell you that \\nGoogle\\n could have had GP T chat, GP T for the way you have it today, they could have had it in 2019. Had they say, have they been focused on it?\", metadata={'source': 'sample_transcript.txt'})]"
      ]
     },
     "execution_count": 5,
     "metadata": {},
     "output_type": "execute_result"
    }
   ],
   "source": [
    "retriever.get_relevant_documents(\"What does Marc Andreessen say about AI?\")"
   ]
  },
  {
   "cell_type": "markdown",
   "metadata": {},
   "source": [
    "### Step 3: Analyze document length "
   ]
  },
  {
   "cell_type": "code",
   "execution_count": 39,
   "metadata": {},
   "outputs": [
    {
     "data": {
      "text/plain": [
       "<matplotlib.legend.Legend at 0x17598e650>"
      ]
     },
     "execution_count": 39,
     "metadata": {},
     "output_type": "execute_result"
    },
    {
     "data": {
      "image/png": "[encoded data removed]",
      "text/plain": [
       "<Figure size 640x480 with 1 Axes>"
      ]
     },
     "metadata": {},
     "output_type": "display_data"
    }
   ],
   "source": [
    "# Plot frequency of document length\n",
    "length = []\n",
    "for doc in docs:\n",
    "    length += [len(doc.page_content.split()) / 150]\n",
    "\n",
    "plt.hist(length, label = 'SemanticChunker (percentile)')\n",
    "plt.ylabel('frequency')\n",
    "plt.xlabel('approx clip length (min)')\n",
    "plt.legend()"
   ]
  },
  {
   "cell_type": "code",
   "execution_count": null,
   "metadata": {},
   "outputs": [],
   "source": []
  }
 ],
 "metadata": {
  "kernelspec": {
   "display_name": "Python 3",
   "language": "python",
   "name": "python3"
  },
  "language_info": {
   "codemirror_mode": {
    "name": "ipython",
    "version": 3
   },
   "file_extension": ".py",
   "mimetype": "text/x-python",
   "name": "python",
   "nbconvert_exporter": "python",
   "pygments_lexer": "ipython3",
   "version": "3.11.7"
  }
 },
 "nbformat": 4,
 "nbformat_minor": 2
}
